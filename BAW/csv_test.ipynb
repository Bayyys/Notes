{
 "cells": [
  {
   "cell_type": "code",
   "execution_count": 2,
   "metadata": {},
   "outputs": [],
   "source": [
    "import pandas as pd"
   ]
  },
  {
   "cell_type": "code",
   "execution_count": 22,
   "metadata": {},
   "outputs": [
    {
     "data": {
      "text/html": [
       "<div>\n",
       "<style scoped>\n",
       "    .dataframe tbody tr th:only-of-type {\n",
       "        vertical-align: middle;\n",
       "    }\n",
       "\n",
       "    .dataframe tbody tr th {\n",
       "        vertical-align: top;\n",
       "    }\n",
       "\n",
       "    .dataframe thead th {\n",
       "        text-align: right;\n",
       "    }\n",
       "</style>\n",
       "<table border=\"1\" class=\"dataframe\">\n",
       "  <thead>\n",
       "    <tr style=\"text-align: right;\">\n",
       "      <th></th>\n",
       "      <th>S1</th>\n",
       "      <th>S2</th>\n",
       "      <th>S3</th>\n",
       "      <th>S4</th>\n",
       "      <th>S5</th>\n",
       "      <th>S6</th>\n",
       "      <th>T1</th>\n",
       "      <th>T2</th>\n",
       "      <th>T3</th>\n",
       "      <th>T4</th>\n",
       "      <th>T5</th>\n",
       "      <th>gap</th>\n",
       "      <th>W</th>\n",
       "      <th>H</th>\n",
       "      <th>ratio_spec_(%)</th>\n",
       "    </tr>\n",
       "    <tr>\n",
       "      <th>case</th>\n",
       "      <th></th>\n",
       "      <th></th>\n",
       "      <th></th>\n",
       "      <th></th>\n",
       "      <th></th>\n",
       "      <th></th>\n",
       "      <th></th>\n",
       "      <th></th>\n",
       "      <th></th>\n",
       "      <th></th>\n",
       "      <th></th>\n",
       "      <th></th>\n",
       "      <th></th>\n",
       "      <th></th>\n",
       "      <th></th>\n",
       "    </tr>\n",
       "  </thead>\n",
       "  <tbody>\n",
       "    <tr>\n",
       "      <th>case_1</th>\n",
       "      <td>15300</td>\n",
       "      <td>10000</td>\n",
       "      <td>13900</td>\n",
       "      <td>15000</td>\n",
       "      <td>15500</td>\n",
       "      <td>13200</td>\n",
       "      <td>8000</td>\n",
       "      <td>11000</td>\n",
       "      <td>12300</td>\n",
       "      <td>10700</td>\n",
       "      <td>9000</td>\n",
       "      <td>30</td>\n",
       "      <td>600</td>\n",
       "      <td>400</td>\n",
       "      <td>55.79</td>\n",
       "    </tr>\n",
       "    <tr>\n",
       "      <th>case_2</th>\n",
       "      <td>8000</td>\n",
       "      <td>9000</td>\n",
       "      <td>12000</td>\n",
       "      <td>12000</td>\n",
       "      <td>13000</td>\n",
       "      <td>11000</td>\n",
       "      <td>7000</td>\n",
       "      <td>6000</td>\n",
       "      <td>5000</td>\n",
       "      <td>8500</td>\n",
       "      <td>5000</td>\n",
       "      <td>30</td>\n",
       "      <td>600</td>\n",
       "      <td>400</td>\n",
       "      <td>40.21</td>\n",
       "    </tr>\n",
       "    <tr>\n",
       "      <th>case_3</th>\n",
       "      <td>7600</td>\n",
       "      <td>9500</td>\n",
       "      <td>10100</td>\n",
       "      <td>10500</td>\n",
       "      <td>8500</td>\n",
       "      <td>10300</td>\n",
       "      <td>14200</td>\n",
       "      <td>11500</td>\n",
       "      <td>12400</td>\n",
       "      <td>9700</td>\n",
       "      <td>8700</td>\n",
       "      <td>30</td>\n",
       "      <td>600</td>\n",
       "      <td>400</td>\n",
       "      <td>47.08</td>\n",
       "    </tr>\n",
       "    <tr>\n",
       "      <th>case_4</th>\n",
       "      <td>14000</td>\n",
       "      <td>8200</td>\n",
       "      <td>12300</td>\n",
       "      <td>8900</td>\n",
       "      <td>13300</td>\n",
       "      <td>11400</td>\n",
       "      <td>11800</td>\n",
       "      <td>12500</td>\n",
       "      <td>10300</td>\n",
       "      <td>9200</td>\n",
       "      <td>8900</td>\n",
       "      <td>30</td>\n",
       "      <td>600</td>\n",
       "      <td>500</td>\n",
       "      <td>40.27</td>\n",
       "    </tr>\n",
       "    <tr>\n",
       "      <th>case_5</th>\n",
       "      <td>11500</td>\n",
       "      <td>7500</td>\n",
       "      <td>22000</td>\n",
       "      <td>10000</td>\n",
       "      <td>11000</td>\n",
       "      <td>13500</td>\n",
       "      <td>12000</td>\n",
       "      <td>12500</td>\n",
       "      <td>8500</td>\n",
       "      <td>18000</td>\n",
       "      <td>18600</td>\n",
       "      <td>30</td>\n",
       "      <td>600</td>\n",
       "      <td>500</td>\n",
       "      <td>48.37</td>\n",
       "    </tr>\n",
       "  </tbody>\n",
       "</table>\n",
       "</div>"
      ],
      "text/plain": [
       "           S1     S2     S3     S4     S5     S6     T1     T2     T3     T4  \\\n",
       "case                                                                           \n",
       "case_1  15300  10000  13900  15000  15500  13200   8000  11000  12300  10700   \n",
       "case_2   8000   9000  12000  12000  13000  11000   7000   6000   5000   8500   \n",
       "case_3   7600   9500  10100  10500   8500  10300  14200  11500  12400   9700   \n",
       "case_4  14000   8200  12300   8900  13300  11400  11800  12500  10300   9200   \n",
       "case_5  11500   7500  22000  10000  11000  13500  12000  12500   8500  18000   \n",
       "\n",
       "           T5  gap    W    H  ratio_spec_(%)  \n",
       "case                                          \n",
       "case_1   9000   30  600  400           55.79  \n",
       "case_2   5000   30  600  400           40.21  \n",
       "case_3   8700   30  600  400           47.08  \n",
       "case_4   8900   30  600  500           40.27  \n",
       "case_5  18600   30  600  500           48.37  "
      ]
     },
     "execution_count": 22,
     "metadata": {},
     "output_type": "execute_result"
    }
   ],
   "source": [
    "data = pd.read_csv(\"testbench.csv\", index_col=0)\n",
    "data.head()"
   ]
  },
  {
   "cell_type": "code",
   "execution_count": 23,
   "metadata": {},
   "outputs": [
    {
     "name": "stdout",
     "output_type": "stream",
     "text": [
      "Index(['case_1', 'case_2', 'case_3', 'case_4', 'case_5', 'case_6', 'case_7',\n",
      "       'case_8', 'case_9', 'case_10', 'custom'],\n",
      "      dtype='object', name='case')\n"
     ]
    }
   ],
   "source": [
    "# 打印所有的索引\n",
    "print(data.index)"
   ]
  },
  {
   "cell_type": "code",
   "execution_count": 28,
   "metadata": {},
   "outputs": [
    {
     "data": {
      "text/plain": [
       "15300.0"
      ]
     },
     "execution_count": 28,
     "metadata": {},
     "output_type": "execute_result"
    }
   ],
   "source": [
    "data.iloc[0][0]"
   ]
  },
  {
   "cell_type": "code",
   "execution_count": 31,
   "metadata": {},
   "outputs": [
    {
     "data": {
      "text/plain": [
       "['S1', 'S2', 'S3', 'S4', 'S5', 'S6', 'T1', 'T2', 'T3', 'T4', 'T5']"
      ]
     },
     "execution_count": 31,
     "metadata": {},
     "output_type": "execute_result"
    }
   ],
   "source": [
    "data.columns[:11].tolist()"
   ]
  },
  {
   "cell_type": "code",
   "execution_count": null,
   "metadata": {},
   "outputs": [],
   "source": []
  },
  {
   "cell_type": "code",
   "execution_count": null,
   "metadata": {},
   "outputs": [],
   "source": []
  },
  {
   "cell_type": "code",
   "execution_count": null,
   "metadata": {},
   "outputs": [],
   "source": []
  }
 ],
 "metadata": {
  "kernelspec": {
   "display_name": "new",
   "language": "python",
   "name": "python3"
  },
  "language_info": {
   "codemirror_mode": {
    "name": "ipython",
    "version": 3
   },
   "file_extension": ".py",
   "mimetype": "text/x-python",
   "name": "python",
   "nbconvert_exporter": "python",
   "pygments_lexer": "ipython3",
   "version": "3.11.4"
  }
 },
 "nbformat": 4,
 "nbformat_minor": 2
}
