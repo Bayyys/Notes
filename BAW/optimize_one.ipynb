{
 "cells": [
  {
   "cell_type": "code",
   "execution_count": 1,
   "metadata": {},
   "outputs": [],
   "source": [
    "import numpy as np\n",
    "import pandas as pd\n",
    "import matplotlib.pyplot as plt\n",
    "import math\n",
    "import random\n"
   ]
  },
  {
   "cell_type": "code",
   "execution_count": 6,
   "metadata": {},
   "outputs": [],
   "source": [
    "Areas = [\n",
    "    15300,\n",
    "    8000,\n",
    "    10700,\n",
    "    9000,\n",
    "    10000,\n",
    "    13900,\n",
    "    15000,\n",
    "    15500,\n",
    "    11000,\n",
    "    12300,\n",
    "    13200,\n",
    "]\n",
    "minS = 30\n",
    "Width = 600\n",
    "Height = 400\n",
    "LIMIT = [  # 0: 完全不可动 1: 只可切除 2: y轴可动 3: x轴可动 4: 完全可动\n",
    "    [[0, 2, 4, 3], [1, 2, 4, 3], [1, 2, 4, 3], [1, 2, 2, 0]],\n",
    "    [[1, 2, 4, 3], [1, 2, 4, 3], [1, 2, 4, 3], [1, 2, 2, 1]],\n",
    "    [[1, 2, 4, 3], [1, 2, 4, 3], [1, 2, 4, 3], [1, 2, 2, 1]],\n",
    "    [[1, 0, 3, 3], [1, 1, 3, 3], [1, 1, 3, 3], [1, 1, 0, 1]],\n",
    "]"
   ]
  },
  {
   "cell_type": "code",
   "execution_count": 47,
   "metadata": {},
   "outputs": [],
   "source": [
    "class MyPoint:\n",
    "    def __init__(self, x, y, type: int = 0, limit_x=None, limit_y=None):\n",
    "        super().__init__()\n",
    "        self.x = x\n",
    "        self.y = y\n",
    "        self.type = type  # 0: 完全不可动 1: 只可切除 2: y轴可动 3: x轴可动 4: 完全可动\n",
    "        self.limit_x = limit_x\n",
    "        self.limit_y = limit_y\n",
    "\n",
    "    def distance(self, p):\n",
    "        return math.sqrt((self.x - p.x) ** 2 + (self.y - p.y) ** 2)\n",
    "\n",
    "    def slope(self, p):\n",
    "        if self.x == p.x:\n",
    "            return float(\"inf\")\n",
    "        return (self.y - p.y) / (self.x - p.x)\n",
    "\n",
    "    def __str__(self):\n",
    "        return f\"({self.x}, {self.y})\""
   ]
  },
  {
   "cell_type": "code",
   "execution_count": 16,
   "metadata": {},
   "outputs": [],
   "source": [
    "class MyPolygon:\n",
    "    def __init__(self):\n",
    "        super().__init__()"
   ]
  },
  {
   "cell_type": "code",
   "execution_count": 17,
   "metadata": {},
   "outputs": [],
   "source": [
    "edge_length = np.sqrt(Areas[0])"
   ]
  },
  {
   "cell_type": "code",
   "execution_count": 56,
   "metadata": {},
   "outputs": [],
   "source": [
    "def get_point(\n",
    "    x, y, type: int = 0, limit_x: tuple = None, limit_y: tuple = None, area=0\n",
    "):\n",
    "    if type == 0 or type == 1:\n",
    "        return MyPoint(x, y, type=type, limit_x=limit_x, limit_y=limit_y)\n",
    "    elif type == 2 or type == 3:\n",
    "        angle = np.arccos(\n",
    "            np.dot(limit_x, limit_y)\n",
    "            / (np.linalg.norm(limit_x) * np.linalg.norm(limit_y))\n",
    "        )  # 两向量夹角\n",
    "        edge_length = np.sqrt(area / np.sin(angle))  # 边长\n",
    "        if type == 2:\n",
    "            v_m = np.linalg.norm(limit_y)  # 计算向量 limit_y 的模\n",
    "            scaled_vector = (\n",
    "                limit_y[0] * edge_length / v_m,\n",
    "                limit_y[1] * edge_length / v_m,\n",
    "            )\n",
    "            offset = (x + scaled_vector[0], y + scaled_vector[1])\n",
    "            return MyPoint(\n",
    "                x=offset[0], y=offset[1], type=type, limit_x=limit_x, limit_y=limit_y\n",
    "            )\n",
    "        if type == 3:\n",
    "            v_m = np.linalg.norm(limit_x)\n",
    "            scaled_vector = (\n",
    "                limit_x[0] * edge_length / v_m,\n",
    "                limit_x[1] * edge_length / v_m,\n",
    "            )\n",
    "            offset = (x + scaled_vector[0], y + scaled_vector[1])\n",
    "            return MyPoint(\n",
    "                x=offset[0], y=offset[1], type=type, limit_x=limit_x, limit_y=limit_y\n",
    "            )"
   ]
  },
  {
   "cell_type": "code",
   "execution_count": 62,
   "metadata": {},
   "outputs": [
    {
     "name": "stdout",
     "output_type": "stream",
     "text": [
      "(0, 0) (0.0, 123.69316876852982) (-123.69316876852982, 0.0) (-123.69316876852982, 123.69316876852982)\n"
     ]
    }
   ],
   "source": [
    "type_list = [0, 2, 4, 3]\n",
    "limit_x = np.array([-1, 0])\n",
    "limit_y = np.array([0, 1])\n",
    "p1 = MyPoint(0, 0, type=type_list[0])\n",
    "p2 = get_point(0, 0, type=type_list[1], limit_x=limit_x, limit_y=limit_y, area=Areas[0])\n",
    "p3 = get_point(0, 0, type=type_list[3], limit_x=limit_x, limit_y=limit_y, area=Areas[0])\n",
    "p4 = MyPoint(\n",
    "    x=p1.x + p2.x + p3.x,\n",
    "    y=p1.y + p2.y + p3.y,\n",
    "    type=type_list[2],\n",
    "    limit_x=limit_x,\n",
    "    limit_y=limit_y,\n",
    ")\n",
    "print(p1, p2, p3, p4)"
   ]
  },
  {
   "cell_type": "code",
   "execution_count": null,
   "metadata": {},
   "outputs": [],
   "source": []
  },
  {
   "cell_type": "code",
   "execution_count": null,
   "metadata": {},
   "outputs": [],
   "source": []
  }
 ],
 "metadata": {
  "kernelspec": {
   "display_name": "new",
   "language": "python",
   "name": "python3"
  },
  "language_info": {
   "codemirror_mode": {
    "name": "ipython",
    "version": 3
   },
   "file_extension": ".py",
   "mimetype": "text/x-python",
   "name": "python",
   "nbconvert_exporter": "python",
   "pygments_lexer": "ipython3",
   "version": "3.11.4"
  }
 },
 "nbformat": 4,
 "nbformat_minor": 2
}
